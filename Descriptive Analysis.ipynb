{
 "cells": [
  {
   "cell_type": "code",
   "execution_count": 63,
   "id": "2ea0d5cd",
   "metadata": {},
   "outputs": [],
   "source": [
    "import numpy as np\n",
    "import pandas as pd\n",
    "import statistics as st\n",
    "import matplotlib.pyplot as plt\n",
    "car=pd.read_csv(r\"C:\\Users\\SriSudha Lingala\\Documents\\Engage-2022\\cars_engage_2022.csv\")"
   ]
  },
  {
   "cell_type": "code",
   "execution_count": 64,
   "id": "9a1c8265",
   "metadata": {},
   "outputs": [
    {
     "data": {
      "text/html": [
       "<div>\n",
       "<style scoped>\n",
       "    .dataframe tbody tr th:only-of-type {\n",
       "        vertical-align: middle;\n",
       "    }\n",
       "\n",
       "    .dataframe tbody tr th {\n",
       "        vertical-align: top;\n",
       "    }\n",
       "\n",
       "    .dataframe thead th {\n",
       "        text-align: right;\n",
       "    }\n",
       "</style>\n",
       "<table border=\"1\" class=\"dataframe\">\n",
       "  <thead>\n",
       "    <tr style=\"text-align: right;\">\n",
       "      <th></th>\n",
       "      <th>Unnamed: 0</th>\n",
       "      <th>Make</th>\n",
       "      <th>Model</th>\n",
       "      <th>Variant</th>\n",
       "      <th>Price</th>\n",
       "      <th>Displacement</th>\n",
       "      <th>Cylinders</th>\n",
       "      <th>Valves_Per_Cylinder</th>\n",
       "      <th>Drivetrain</th>\n",
       "      <th>Cylinder_Configuration</th>\n",
       "      <th>...</th>\n",
       "      <th>Leather_Wrapped_Steering</th>\n",
       "      <th>Automatic_Headlamps</th>\n",
       "      <th>Engine_Type</th>\n",
       "      <th>ASR_/_Traction_Control</th>\n",
       "      <th>Cruise_Control</th>\n",
       "      <th>USB_Ports</th>\n",
       "      <th>Heads-Up_Display</th>\n",
       "      <th>Welcome_Lights</th>\n",
       "      <th>Battery</th>\n",
       "      <th>Electric_Range</th>\n",
       "    </tr>\n",
       "  </thead>\n",
       "  <tbody>\n",
       "    <tr>\n",
       "      <th>0</th>\n",
       "      <td>0</td>\n",
       "      <td>Tata</td>\n",
       "      <td>Nano Genx</td>\n",
       "      <td>Xt</td>\n",
       "      <td>2,92,667</td>\n",
       "      <td>624.0</td>\n",
       "      <td>2.0</td>\n",
       "      <td>2.0</td>\n",
       "      <td>RWD (Rear Wheel Drive)</td>\n",
       "      <td>In-line</td>\n",
       "      <td>...</td>\n",
       "      <td>NaN</td>\n",
       "      <td>NaN</td>\n",
       "      <td>NaN</td>\n",
       "      <td>NaN</td>\n",
       "      <td>NaN</td>\n",
       "      <td>NaN</td>\n",
       "      <td>NaN</td>\n",
       "      <td>NaN</td>\n",
       "      <td>NaN</td>\n",
       "      <td>NaN</td>\n",
       "    </tr>\n",
       "    <tr>\n",
       "      <th>1</th>\n",
       "      <td>1</td>\n",
       "      <td>Tata</td>\n",
       "      <td>Nano Genx</td>\n",
       "      <td>Xe</td>\n",
       "      <td>2,36,447</td>\n",
       "      <td>624.0</td>\n",
       "      <td>2.0</td>\n",
       "      <td>2.0</td>\n",
       "      <td>RWD (Rear Wheel Drive)</td>\n",
       "      <td>In-line</td>\n",
       "      <td>...</td>\n",
       "      <td>NaN</td>\n",
       "      <td>NaN</td>\n",
       "      <td>NaN</td>\n",
       "      <td>NaN</td>\n",
       "      <td>NaN</td>\n",
       "      <td>NaN</td>\n",
       "      <td>NaN</td>\n",
       "      <td>NaN</td>\n",
       "      <td>NaN</td>\n",
       "      <td>NaN</td>\n",
       "    </tr>\n",
       "    <tr>\n",
       "      <th>2</th>\n",
       "      <td>2</td>\n",
       "      <td>Tata</td>\n",
       "      <td>Nano Genx</td>\n",
       "      <td>Emax Xm</td>\n",
       "      <td>2,96,661</td>\n",
       "      <td>624.0</td>\n",
       "      <td>2.0</td>\n",
       "      <td>2.0</td>\n",
       "      <td>RWD (Rear Wheel Drive)</td>\n",
       "      <td>In-line</td>\n",
       "      <td>...</td>\n",
       "      <td>NaN</td>\n",
       "      <td>NaN</td>\n",
       "      <td>NaN</td>\n",
       "      <td>NaN</td>\n",
       "      <td>NaN</td>\n",
       "      <td>NaN</td>\n",
       "      <td>NaN</td>\n",
       "      <td>NaN</td>\n",
       "      <td>NaN</td>\n",
       "      <td>NaN</td>\n",
       "    </tr>\n",
       "    <tr>\n",
       "      <th>3</th>\n",
       "      <td>3</td>\n",
       "      <td>Tata</td>\n",
       "      <td>Nano Genx</td>\n",
       "      <td>Xta</td>\n",
       "      <td>3,34,768</td>\n",
       "      <td>624.0</td>\n",
       "      <td>2.0</td>\n",
       "      <td>2.0</td>\n",
       "      <td>RWD (Rear Wheel Drive)</td>\n",
       "      <td>In-line</td>\n",
       "      <td>...</td>\n",
       "      <td>NaN</td>\n",
       "      <td>NaN</td>\n",
       "      <td>NaN</td>\n",
       "      <td>NaN</td>\n",
       "      <td>NaN</td>\n",
       "      <td>NaN</td>\n",
       "      <td>NaN</td>\n",
       "      <td>NaN</td>\n",
       "      <td>NaN</td>\n",
       "      <td>NaN</td>\n",
       "    </tr>\n",
       "    <tr>\n",
       "      <th>4</th>\n",
       "      <td>4</td>\n",
       "      <td>Tata</td>\n",
       "      <td>Nano Genx</td>\n",
       "      <td>Xm</td>\n",
       "      <td>2,72,223</td>\n",
       "      <td>624.0</td>\n",
       "      <td>2.0</td>\n",
       "      <td>2.0</td>\n",
       "      <td>RWD (Rear Wheel Drive)</td>\n",
       "      <td>In-line</td>\n",
       "      <td>...</td>\n",
       "      <td>NaN</td>\n",
       "      <td>NaN</td>\n",
       "      <td>NaN</td>\n",
       "      <td>NaN</td>\n",
       "      <td>NaN</td>\n",
       "      <td>NaN</td>\n",
       "      <td>NaN</td>\n",
       "      <td>NaN</td>\n",
       "      <td>NaN</td>\n",
       "      <td>NaN</td>\n",
       "    </tr>\n",
       "    <tr>\n",
       "      <th>...</th>\n",
       "      <td>...</td>\n",
       "      <td>...</td>\n",
       "      <td>...</td>\n",
       "      <td>...</td>\n",
       "      <td>...</td>\n",
       "      <td>...</td>\n",
       "      <td>...</td>\n",
       "      <td>...</td>\n",
       "      <td>...</td>\n",
       "      <td>...</td>\n",
       "      <td>...</td>\n",
       "      <td>...</td>\n",
       "      <td>...</td>\n",
       "      <td>...</td>\n",
       "      <td>...</td>\n",
       "      <td>...</td>\n",
       "      <td>...</td>\n",
       "      <td>...</td>\n",
       "      <td>...</td>\n",
       "      <td>...</td>\n",
       "      <td>...</td>\n",
       "    </tr>\n",
       "    <tr>\n",
       "      <th>1271</th>\n",
       "      <td>1271</td>\n",
       "      <td>Honda</td>\n",
       "      <td>City</td>\n",
       "      <td>Vx Mt Diesel</td>\n",
       "      <td>13,02,000</td>\n",
       "      <td>1498.0</td>\n",
       "      <td>4.0</td>\n",
       "      <td>4.0</td>\n",
       "      <td>FWD (Front Wheel Drive)</td>\n",
       "      <td>In-line</td>\n",
       "      <td>...</td>\n",
       "      <td>Yes</td>\n",
       "      <td>NaN</td>\n",
       "      <td>NaN</td>\n",
       "      <td>NaN</td>\n",
       "      <td>Yes</td>\n",
       "      <td>NaN</td>\n",
       "      <td>NaN</td>\n",
       "      <td>NaN</td>\n",
       "      <td>NaN</td>\n",
       "      <td>NaN</td>\n",
       "    </tr>\n",
       "    <tr>\n",
       "      <th>1272</th>\n",
       "      <td>1272</td>\n",
       "      <td>Honda</td>\n",
       "      <td>City</td>\n",
       "      <td>Zx Mt Diesel</td>\n",
       "      <td>14,21,000</td>\n",
       "      <td>1498.0</td>\n",
       "      <td>4.0</td>\n",
       "      <td>4.0</td>\n",
       "      <td>FWD (Front Wheel Drive)</td>\n",
       "      <td>In-line</td>\n",
       "      <td>...</td>\n",
       "      <td>Yes</td>\n",
       "      <td>Yes</td>\n",
       "      <td>NaN</td>\n",
       "      <td>NaN</td>\n",
       "      <td>Yes</td>\n",
       "      <td>NaN</td>\n",
       "      <td>NaN</td>\n",
       "      <td>NaN</td>\n",
       "      <td>NaN</td>\n",
       "      <td>NaN</td>\n",
       "    </tr>\n",
       "    <tr>\n",
       "      <th>1273</th>\n",
       "      <td>1273</td>\n",
       "      <td>Honda</td>\n",
       "      <td>City</td>\n",
       "      <td>Zx Cvt Petrol</td>\n",
       "      <td>14,31,000</td>\n",
       "      <td>1497.0</td>\n",
       "      <td>4.0</td>\n",
       "      <td>4.0</td>\n",
       "      <td>FWD (Front Wheel Drive)</td>\n",
       "      <td>In-line</td>\n",
       "      <td>...</td>\n",
       "      <td>Yes</td>\n",
       "      <td>Yes</td>\n",
       "      <td>NaN</td>\n",
       "      <td>NaN</td>\n",
       "      <td>Yes</td>\n",
       "      <td>NaN</td>\n",
       "      <td>NaN</td>\n",
       "      <td>NaN</td>\n",
       "      <td>NaN</td>\n",
       "      <td>NaN</td>\n",
       "    </tr>\n",
       "    <tr>\n",
       "      <th>1274</th>\n",
       "      <td>1274</td>\n",
       "      <td>Honda</td>\n",
       "      <td>City</td>\n",
       "      <td>V Cvt Petrol</td>\n",
       "      <td>12,01,000</td>\n",
       "      <td>1497.0</td>\n",
       "      <td>4.0</td>\n",
       "      <td>4.0</td>\n",
       "      <td>FWD (Front Wheel Drive)</td>\n",
       "      <td>In-line</td>\n",
       "      <td>...</td>\n",
       "      <td>NaN</td>\n",
       "      <td>NaN</td>\n",
       "      <td>NaN</td>\n",
       "      <td>NaN</td>\n",
       "      <td>Yes</td>\n",
       "      <td>NaN</td>\n",
       "      <td>NaN</td>\n",
       "      <td>NaN</td>\n",
       "      <td>NaN</td>\n",
       "      <td>NaN</td>\n",
       "    </tr>\n",
       "    <tr>\n",
       "      <th>1275</th>\n",
       "      <td>1275</td>\n",
       "      <td>Mitsubishi</td>\n",
       "      <td>Montero</td>\n",
       "      <td>3.2 At</td>\n",
       "      <td>68,62,560</td>\n",
       "      <td>3200.0</td>\n",
       "      <td>4.0</td>\n",
       "      <td>4.0</td>\n",
       "      <td>AWD (All Wheel Drive)</td>\n",
       "      <td>In-line</td>\n",
       "      <td>...</td>\n",
       "      <td>Yes</td>\n",
       "      <td>NaN</td>\n",
       "      <td>NaN</td>\n",
       "      <td>Yes</td>\n",
       "      <td>Yes</td>\n",
       "      <td>NaN</td>\n",
       "      <td>NaN</td>\n",
       "      <td>NaN</td>\n",
       "      <td>NaN</td>\n",
       "      <td>NaN</td>\n",
       "    </tr>\n",
       "  </tbody>\n",
       "</table>\n",
       "<p>1276 rows × 141 columns</p>\n",
       "</div>"
      ],
      "text/plain": [
       "      Unnamed: 0        Make      Model        Variant      Price  \\\n",
       "0              0        Tata  Nano Genx             Xt   2,92,667   \n",
       "1              1        Tata  Nano Genx             Xe   2,36,447   \n",
       "2              2        Tata  Nano Genx        Emax Xm   2,96,661   \n",
       "3              3        Tata  Nano Genx            Xta   3,34,768   \n",
       "4              4        Tata  Nano Genx             Xm   2,72,223   \n",
       "...          ...         ...        ...            ...        ...   \n",
       "1271        1271       Honda       City   Vx Mt Diesel  13,02,000   \n",
       "1272        1272       Honda       City   Zx Mt Diesel  14,21,000   \n",
       "1273        1273       Honda       City  Zx Cvt Petrol  14,31,000   \n",
       "1274        1274       Honda       City   V Cvt Petrol  12,01,000   \n",
       "1275        1275  Mitsubishi    Montero         3.2 At  68,62,560   \n",
       "\n",
       "      Displacement  Cylinders  Valves_Per_Cylinder               Drivetrain  \\\n",
       "0            624.0        2.0                  2.0   RWD (Rear Wheel Drive)   \n",
       "1            624.0        2.0                  2.0   RWD (Rear Wheel Drive)   \n",
       "2            624.0        2.0                  2.0   RWD (Rear Wheel Drive)   \n",
       "3            624.0        2.0                  2.0   RWD (Rear Wheel Drive)   \n",
       "4            624.0        2.0                  2.0   RWD (Rear Wheel Drive)   \n",
       "...            ...        ...                  ...                      ...   \n",
       "1271        1498.0        4.0                  4.0  FWD (Front Wheel Drive)   \n",
       "1272        1498.0        4.0                  4.0  FWD (Front Wheel Drive)   \n",
       "1273        1497.0        4.0                  4.0  FWD (Front Wheel Drive)   \n",
       "1274        1497.0        4.0                  4.0  FWD (Front Wheel Drive)   \n",
       "1275        3200.0        4.0                  4.0    AWD (All Wheel Drive)   \n",
       "\n",
       "     Cylinder_Configuration  ... Leather_Wrapped_Steering Automatic_Headlamps  \\\n",
       "0                   In-line  ...                      NaN                 NaN   \n",
       "1                   In-line  ...                      NaN                 NaN   \n",
       "2                   In-line  ...                      NaN                 NaN   \n",
       "3                   In-line  ...                      NaN                 NaN   \n",
       "4                   In-line  ...                      NaN                 NaN   \n",
       "...                     ...  ...                      ...                 ...   \n",
       "1271                In-line  ...                      Yes                 NaN   \n",
       "1272                In-line  ...                      Yes                 Yes   \n",
       "1273                In-line  ...                      Yes                 Yes   \n",
       "1274                In-line  ...                      NaN                 NaN   \n",
       "1275                In-line  ...                      Yes                 NaN   \n",
       "\n",
       "     Engine_Type  ASR_/_Traction_Control Cruise_Control  USB_Ports  \\\n",
       "0            NaN                     NaN            NaN        NaN   \n",
       "1            NaN                     NaN            NaN        NaN   \n",
       "2            NaN                     NaN            NaN        NaN   \n",
       "3            NaN                     NaN            NaN        NaN   \n",
       "4            NaN                     NaN            NaN        NaN   \n",
       "...          ...                     ...            ...        ...   \n",
       "1271         NaN                     NaN            Yes        NaN   \n",
       "1272         NaN                     NaN            Yes        NaN   \n",
       "1273         NaN                     NaN            Yes        NaN   \n",
       "1274         NaN                     NaN            Yes        NaN   \n",
       "1275         NaN                     Yes            Yes        NaN   \n",
       "\n",
       "      Heads-Up_Display  Welcome_Lights Battery  Electric_Range  \n",
       "0                  NaN             NaN     NaN             NaN  \n",
       "1                  NaN             NaN     NaN             NaN  \n",
       "2                  NaN             NaN     NaN             NaN  \n",
       "3                  NaN             NaN     NaN             NaN  \n",
       "4                  NaN             NaN     NaN             NaN  \n",
       "...                ...             ...     ...             ...  \n",
       "1271               NaN             NaN     NaN             NaN  \n",
       "1272               NaN             NaN     NaN             NaN  \n",
       "1273               NaN             NaN     NaN             NaN  \n",
       "1274               NaN             NaN     NaN             NaN  \n",
       "1275               NaN             NaN     NaN             NaN  \n",
       "\n",
       "[1276 rows x 141 columns]"
      ]
     },
     "execution_count": 64,
     "metadata": {},
     "output_type": "execute_result"
    }
   ],
   "source": [
    "car"
   ]
  },
  {
   "cell_type": "code",
   "execution_count": 65,
   "id": "e8ebae06",
   "metadata": {},
   "outputs": [
    {
     "name": "stderr",
     "output_type": "stream",
     "text": [
      "C:\\Users\\SRISUD~1\\AppData\\Local\\Temp/ipykernel_3440/1170622532.py:1: FutureWarning: Dropping of nuisance columns in DataFrame reductions (with 'numeric_only=None') is deprecated; in a future version this will raise TypeError.  Select only valid columns before calling the reduction.\n",
      "  car.mean()\n"
     ]
    },
    {
     "data": {
      "text/plain": [
       "Unnamed: 0              637.500000\n",
       "Displacement           1858.804589\n",
       "Cylinders                 4.380992\n",
       "Valves_Per_Cylinder       3.977853\n",
       "Fuel_Tank_Capacity       52.119221\n",
       "Height                 1591.093996\n",
       "Length                 4296.883730\n",
       "Width                  1788.550510\n",
       "Doors                     4.550314\n",
       "Ground_Clearance        179.608916\n",
       "Seating_Capacity          5.270079\n",
       "Wheelbase              2631.494427\n",
       "Number_of_Airbags         3.787029\n",
       "USB_Ports                 1.793103\n",
       "dtype: float64"
      ]
     },
     "execution_count": 65,
     "metadata": {},
     "output_type": "execute_result"
    }
   ],
   "source": [
    "car.mean()"
   ]
  },
  {
   "cell_type": "code",
   "execution_count": 66,
   "id": "b669aa1a",
   "metadata": {},
   "outputs": [
    {
     "name": "stdout",
     "output_type": "stream",
     "text": [
      "Unnamed: 0          1276\n",
      "Make                1201\n",
      "Model               1276\n",
      "Variant             1276\n",
      "Price               1276\n",
      "                    ... \n",
      "USB_Ports             29\n",
      "Heads-Up_Display      51\n",
      "Welcome_Lights        69\n",
      "Battery               13\n",
      "Electric_Range        17\n",
      "Length: 141, dtype: int64\n"
     ]
    }
   ],
   "source": [
    "print(car.count())"
   ]
  },
  {
   "cell_type": "code",
   "execution_count": 67,
   "id": "34f71581",
   "metadata": {},
   "outputs": [
    {
     "name": "stdout",
     "output_type": "stream",
     "text": [
      "Unnamed: 0                                                        813450\n",
      "Model                  Nano GenxNano GenxNano GenxNano GenxNano GenxN...\n",
      "Variant                XtXeEmax XmXtaXmXmaDTAS1.0 S1.0 S AmtRxe 0.8St...\n",
      "Price                  2,92,6672,36,4472,96,6613,34,7682,72,2233,14,8...\n",
      "Displacement                                                   2349529.0\n",
      "Cylinders                                                         5301.0\n",
      "Valves_Per_Cylinder                                               4670.0\n",
      "Fuel_Tank_Capacity                                               62907.9\n",
      "Fuel_Type              PetrolPetrolCNGPetrolPetrolPetrolPetrolPetrolP...\n",
      "Height                                                       2028644.845\n",
      "Length                                                        5482823.64\n",
      "Width                                                        2260727.845\n",
      "Doors                                                             5788.0\n",
      "Ground_Clearance                                                177274.0\n",
      "Power                  38PS@5500rpm38PS@5500rpm38PS@5500rpm38PS@5500r...\n",
      "Seating_Capacity                                                  6693.0\n",
      "Wheelbase                                                      3305157.0\n",
      "Number_of_Airbags                                                 4321.0\n",
      "USB_Ports                                                           52.0\n",
      "dtype: object\n"
     ]
    },
    {
     "name": "stderr",
     "output_type": "stream",
     "text": [
      "C:\\Users\\SRISUD~1\\AppData\\Local\\Temp/ipykernel_3440/1922817572.py:1: FutureWarning: Dropping of nuisance columns in DataFrame reductions (with 'numeric_only=None') is deprecated; in a future version this will raise TypeError.  Select only valid columns before calling the reduction.\n",
      "  print(car.sum())\n"
     ]
    }
   ],
   "source": [
    "print(car.sum())"
   ]
  },
  {
   "cell_type": "code",
   "execution_count": 68,
   "id": "57377c68",
   "metadata": {},
   "outputs": [
    {
     "name": "stdout",
     "output_type": "stream",
     "text": [
      "0        9637.0\n",
      "1        9638.0\n",
      "2        9629.0\n",
      "3        9640.0\n",
      "4        9641.0\n",
      "         ...   \n",
      "1271    13223.0\n",
      "1272    13228.0\n",
      "1273    13228.0\n",
      "1274    13225.0\n",
      "1275    16279.0\n",
      "Length: 1276, dtype: float64\n"
     ]
    },
    {
     "name": "stderr",
     "output_type": "stream",
     "text": [
      "C:\\Users\\SRISUD~1\\AppData\\Local\\Temp/ipykernel_3440/2367567579.py:1: FutureWarning: Dropping of nuisance columns in DataFrame reductions (with 'numeric_only=None') is deprecated; in a future version this will raise TypeError.  Select only valid columns before calling the reduction.\n",
      "  print(car.sum(1))\n"
     ]
    }
   ],
   "source": [
    "print(car.sum(1))"
   ]
  },
  {
   "cell_type": "code",
   "execution_count": 69,
   "id": "3d16a524",
   "metadata": {},
   "outputs": [
    {
     "name": "stdout",
     "output_type": "stream",
     "text": [
      "Unnamed: 0              637.500000\n",
      "Displacement           1858.804589\n",
      "Cylinders                 4.380992\n",
      "Valves_Per_Cylinder       3.977853\n",
      "Fuel_Tank_Capacity       52.119221\n",
      "Height                 1591.093996\n",
      "Length                 4296.883730\n",
      "Width                  1788.550510\n",
      "Doors                     4.550314\n",
      "Ground_Clearance        179.608916\n",
      "Seating_Capacity          5.270079\n",
      "Wheelbase              2631.494427\n",
      "Number_of_Airbags         3.787029\n",
      "USB_Ports                 1.793103\n",
      "dtype: float64\n"
     ]
    },
    {
     "name": "stderr",
     "output_type": "stream",
     "text": [
      "C:\\Users\\SRISUD~1\\AppData\\Local\\Temp/ipykernel_3440/1944023596.py:1: FutureWarning: Dropping of nuisance columns in DataFrame reductions (with 'numeric_only=None') is deprecated; in a future version this will raise TypeError.  Select only valid columns before calling the reduction.\n",
      "  print(car.mean())\n"
     ]
    }
   ],
   "source": [
    "print(car.mean())"
   ]
  },
  {
   "cell_type": "code",
   "execution_count": 70,
   "id": "6c1e1bf8",
   "metadata": {},
   "outputs": [
    {
     "name": "stdout",
     "output_type": "stream",
     "text": [
      "Unnamed: 0              637.5\n",
      "Displacement           1497.0\n",
      "Cylinders                 4.0\n",
      "Valves_Per_Cylinder       4.0\n",
      "Fuel_Tank_Capacity       46.0\n",
      "Height                 1557.0\n",
      "Length                 4331.0\n",
      "Width                  1770.0\n",
      "Doors                     5.0\n",
      "Ground_Clearance        170.0\n",
      "Seating_Capacity          5.0\n",
      "Wheelbase              2600.0\n",
      "Number_of_Airbags         2.0\n",
      "USB_Ports                 2.0\n",
      "dtype: float64\n"
     ]
    },
    {
     "name": "stderr",
     "output_type": "stream",
     "text": [
      "C:\\Users\\SRISUD~1\\AppData\\Local\\Temp/ipykernel_3440/4014433630.py:1: FutureWarning: Dropping of nuisance columns in DataFrame reductions (with 'numeric_only=None') is deprecated; in a future version this will raise TypeError.  Select only valid columns before calling the reduction.\n",
      "  print(car.median())\n"
     ]
    }
   ],
   "source": [
    "print(car.median())"
   ]
  },
  {
   "cell_type": "code",
   "execution_count": 71,
   "id": "ae2277ef",
   "metadata": {},
   "outputs": [
    {
     "name": "stdout",
     "output_type": "stream",
     "text": [
      "      Unnamed: 0           Make  Model Variant     Price  Displacement  \\\n",
      "0              0  Maruti Suzuki  Nexon     Lxi  9,99,900        1197.0   \n",
      "1              1            NaN    NaN     Vxi       NaN           NaN   \n",
      "2              2            NaN    NaN     NaN       NaN           NaN   \n",
      "3              3            NaN    NaN     NaN       NaN           NaN   \n",
      "4              4            NaN    NaN     NaN       NaN           NaN   \n",
      "...          ...            ...    ...     ...       ...           ...   \n",
      "1271        1271            NaN    NaN     NaN       NaN           NaN   \n",
      "1272        1272            NaN    NaN     NaN       NaN           NaN   \n",
      "1273        1273            NaN    NaN     NaN       NaN           NaN   \n",
      "1274        1274            NaN    NaN     NaN       NaN           NaN   \n",
      "1275        1275            NaN    NaN     NaN       NaN           NaN   \n",
      "\n",
      "      Cylinders  Valves_Per_Cylinder               Drivetrain  \\\n",
      "0           4.0                  4.0  FWD (Front Wheel Drive)   \n",
      "1           NaN                  NaN                      NaN   \n",
      "2           NaN                  NaN                      NaN   \n",
      "3           NaN                  NaN                      NaN   \n",
      "4           NaN                  NaN                      NaN   \n",
      "...         ...                  ...                      ...   \n",
      "1271        NaN                  NaN                      NaN   \n",
      "1272        NaN                  NaN                      NaN   \n",
      "1273        NaN                  NaN                      NaN   \n",
      "1274        NaN                  NaN                      NaN   \n",
      "1275        NaN                  NaN                      NaN   \n",
      "\n",
      "     Cylinder_Configuration  ... Leather_Wrapped_Steering Automatic_Headlamps  \\\n",
      "0                   In-line  ...                      Yes                 Yes   \n",
      "1                       NaN  ...                      NaN                 NaN   \n",
      "2                       NaN  ...                      NaN                 NaN   \n",
      "3                       NaN  ...                      NaN                 NaN   \n",
      "4                       NaN  ...                      NaN                 NaN   \n",
      "...                     ...  ...                      ...                 ...   \n",
      "1271                    NaN  ...                      NaN                 NaN   \n",
      "1272                    NaN  ...                      NaN                 NaN   \n",
      "1273                    NaN  ...                      NaN                 NaN   \n",
      "1274                    NaN  ...                      NaN                 NaN   \n",
      "1275                    NaN  ...                      NaN                 NaN   \n",
      "\n",
      "                     Engine_Type  ASR_/_Traction_Control Cruise_Control  \\\n",
      "0     Revotron 1.2 L, BS6 Engine                     Yes            Yes   \n",
      "1                            NaN                     NaN            NaN   \n",
      "2                            NaN                     NaN            NaN   \n",
      "3                            NaN                     NaN            NaN   \n",
      "4                            NaN                     NaN            NaN   \n",
      "...                          ...                     ...            ...   \n",
      "1271                         NaN                     NaN            NaN   \n",
      "1272                         NaN                     NaN            NaN   \n",
      "1273                         NaN                     NaN            NaN   \n",
      "1274                         NaN                     NaN            NaN   \n",
      "1275                         NaN                     NaN            NaN   \n",
      "\n",
      "      USB_Ports  Heads-Up_Display  Welcome_Lights  \\\n",
      "0           1.0               Yes             Yes   \n",
      "1           NaN               NaN             NaN   \n",
      "2           NaN               NaN             NaN   \n",
      "3           NaN               NaN             NaN   \n",
      "4           NaN               NaN             NaN   \n",
      "...         ...               ...             ...   \n",
      "1271        NaN               NaN             NaN   \n",
      "1272        NaN               NaN             NaN   \n",
      "1273        NaN               NaN             NaN   \n",
      "1274        NaN               NaN             NaN   \n",
      "1275        NaN               NaN             NaN   \n",
      "\n",
      "                                                Battery      Electric_Range  \n",
      "0                                       200 ampere-hour  110 km/full charge  \n",
      "1              21.5 kWh,Battery Placed Under Rear Seats                 NaN  \n",
      "2     30.2 kWh* Advanced Li-ion polymer, liquid cool...                 NaN  \n",
      "3                                                   NaN                 NaN  \n",
      "4                                                   NaN                 NaN  \n",
      "...                                                 ...                 ...  \n",
      "1271                                                NaN                 NaN  \n",
      "1272                                                NaN                 NaN  \n",
      "1273                                                NaN                 NaN  \n",
      "1274                                                NaN                 NaN  \n",
      "1275                                                NaN                 NaN  \n",
      "\n",
      "[1276 rows x 141 columns]\n"
     ]
    }
   ],
   "source": [
    "print(car.mode())"
   ]
  },
  {
   "cell_type": "code",
   "execution_count": 72,
   "id": "dca3a77e",
   "metadata": {},
   "outputs": [
    {
     "name": "stdout",
     "output_type": "stream",
     "text": [
      "Unnamed: 0              368.493781\n",
      "Displacement           1063.152389\n",
      "Cylinders                 1.660957\n",
      "Valves_Per_Cylinder       0.833763\n",
      "Fuel_Tank_Capacity       16.458956\n",
      "Height                  157.916262\n",
      "Length                  476.612977\n",
      "Width                   150.932385\n",
      "Doors                     0.747816\n",
      "Ground_Clearance         33.109897\n",
      "Seating_Capacity          1.145231\n",
      "Wheelbase               209.912640\n",
      "Number_of_Airbags         2.522399\n",
      "USB_Ports                 0.773642\n",
      "dtype: float64\n"
     ]
    },
    {
     "name": "stderr",
     "output_type": "stream",
     "text": [
      "C:\\Users\\SRISUD~1\\AppData\\Local\\Temp/ipykernel_3440/1932833815.py:1: FutureWarning: Dropping of nuisance columns in DataFrame reductions (with 'numeric_only=None') is deprecated; in a future version this will raise TypeError.  Select only valid columns before calling the reduction.\n",
      "  print(car.std())\n"
     ]
    }
   ],
   "source": [
    "print(car.std())"
   ]
  },
  {
   "cell_type": "code",
   "execution_count": 73,
   "id": "f7fa9c97",
   "metadata": {},
   "outputs": [
    {
     "name": "stdout",
     "output_type": "stream",
     "text": [
      "Unnamed: 0                         0\n",
      "Model                       3-Series\n",
      "Variant                        1.0 S\n",
      "Price                    1,01,44,987\n",
      "Displacement                    72.0\n",
      "Cylinders                        2.0\n",
      "Valves_Per_Cylinder              1.0\n",
      "Fuel_Tank_Capacity              15.0\n",
      "Fuel_Type                        CNG\n",
      "Height                         1.845\n",
      "Length                          4.64\n",
      "Width                          1.845\n",
      "Doors                            2.0\n",
      "Ground_Clearance               100.0\n",
      "Power                  100PS@3600rpm\n",
      "Seating_Capacity                 2.0\n",
      "Wheelbase                     1840.0\n",
      "Number_of_Airbags                1.0\n",
      "USB_Ports                        1.0\n",
      "dtype: object\n"
     ]
    },
    {
     "name": "stderr",
     "output_type": "stream",
     "text": [
      "C:\\Users\\SRISUD~1\\AppData\\Local\\Temp/ipykernel_3440/65229291.py:1: FutureWarning: Dropping of nuisance columns in DataFrame reductions (with 'numeric_only=None') is deprecated; in a future version this will raise TypeError.  Select only valid columns before calling the reduction.\n",
      "  print(car.min())\n"
     ]
    }
   ],
   "source": [
    "print(car.min())"
   ]
  },
  {
   "cell_type": "code",
   "execution_count": 74,
   "id": "05faef80",
   "metadata": {},
   "outputs": [
    {
     "name": "stdout",
     "output_type": "stream",
     "text": [
      "Unnamed: 0                     1275\n",
      "Model                         Zs Ev\n",
      "Variant                Zxi Plus Amt\n",
      "Price                     99,00,000\n",
      "Displacement                 7993.0\n",
      "Cylinders                      16.0\n",
      "Valves_Per_Cylinder            16.0\n",
      "Fuel_Tank_Capacity            105.0\n",
      "Fuel_Type                    Petrol\n",
      "Height                       2670.0\n",
      "Length                       6092.0\n",
      "Width                        2226.0\n",
      "Doors                           5.0\n",
      "Ground_Clearance              498.0\n",
      "Power                  99PS@6000rpm\n",
      "Seating_Capacity               16.0\n",
      "Wheelbase                    3820.0\n",
      "Number_of_Airbags              14.0\n",
      "USB_Ports                       3.0\n",
      "dtype: object\n"
     ]
    },
    {
     "name": "stderr",
     "output_type": "stream",
     "text": [
      "C:\\Users\\SRISUD~1\\AppData\\Local\\Temp/ipykernel_3440/344783958.py:1: FutureWarning: Dropping of nuisance columns in DataFrame reductions (with 'numeric_only=None') is deprecated; in a future version this will raise TypeError.  Select only valid columns before calling the reduction.\n",
      "  print(car.max())\n"
     ]
    }
   ],
   "source": [
    "print(car.max())"
   ]
  },
  {
   "cell_type": "code",
   "execution_count": 75,
   "id": "9044f6b9",
   "metadata": {},
   "outputs": [
    {
     "name": "stdout",
     "output_type": "stream",
     "text": [
      "Unnamed: 0                   0.0\n",
      "Displacement                 inf\n",
      "Cylinders                    inf\n",
      "Valves_Per_Cylinder          inf\n",
      "Fuel_Tank_Capacity           inf\n",
      "Height                       inf\n",
      "Length                       inf\n",
      "Width                        inf\n",
      "Doors                        inf\n",
      "Ground_Clearance             inf\n",
      "Seating_Capacity             inf\n",
      "Wheelbase                    inf\n",
      "Number_of_Airbags            inf\n",
      "USB_Ports              1492992.0\n",
      "dtype: float64\n"
     ]
    },
    {
     "name": "stderr",
     "output_type": "stream",
     "text": [
      "C:\\Users\\SriSudha Lingala\\anaconda3\\lib\\site-packages\\numpy\\core\\_methods.py:51: RuntimeWarning: overflow encountered in reduce\n",
      "  return umr_prod(a, axis, dtype, out, keepdims, initial, where)\n",
      "C:\\Users\\SRISUD~1\\AppData\\Local\\Temp/ipykernel_3440/1583685337.py:1: FutureWarning: Dropping of nuisance columns in DataFrame reductions (with 'numeric_only=None') is deprecated; in a future version this will raise TypeError.  Select only valid columns before calling the reduction.\n",
      "  print(car.prod())\n"
     ]
    }
   ],
   "source": [
    "print(car.prod())"
   ]
  },
  {
   "cell_type": "code",
   "execution_count": 76,
   "id": "0a878cf9",
   "metadata": {},
   "outputs": [
    {
     "data": {
      "text/html": [
       "<div>\n",
       "<style scoped>\n",
       "    .dataframe tbody tr th:only-of-type {\n",
       "        vertical-align: middle;\n",
       "    }\n",
       "\n",
       "    .dataframe tbody tr th {\n",
       "        vertical-align: top;\n",
       "    }\n",
       "\n",
       "    .dataframe thead th {\n",
       "        text-align: right;\n",
       "    }\n",
       "</style>\n",
       "<table border=\"1\" class=\"dataframe\">\n",
       "  <thead>\n",
       "    <tr style=\"text-align: right;\">\n",
       "      <th></th>\n",
       "      <th>Unnamed: 0</th>\n",
       "      <th>Displacement</th>\n",
       "      <th>Cylinders</th>\n",
       "      <th>Valves_Per_Cylinder</th>\n",
       "      <th>Fuel_Tank_Capacity</th>\n",
       "      <th>Height</th>\n",
       "      <th>Length</th>\n",
       "      <th>Width</th>\n",
       "      <th>Doors</th>\n",
       "      <th>Ground_Clearance</th>\n",
       "      <th>Seating_Capacity</th>\n",
       "      <th>Wheelbase</th>\n",
       "      <th>Number_of_Airbags</th>\n",
       "      <th>USB_Ports</th>\n",
       "    </tr>\n",
       "  </thead>\n",
       "  <tbody>\n",
       "    <tr>\n",
       "      <th>count</th>\n",
       "      <td>1276.000000</td>\n",
       "      <td>1264.000000</td>\n",
       "      <td>1210.000000</td>\n",
       "      <td>1174.000000</td>\n",
       "      <td>1207.000000</td>\n",
       "      <td>1275.000000</td>\n",
       "      <td>1276.000000</td>\n",
       "      <td>1264.000000</td>\n",
       "      <td>1272.000000</td>\n",
       "      <td>987.000000</td>\n",
       "      <td>1270.000000</td>\n",
       "      <td>1256.000000</td>\n",
       "      <td>1141.000000</td>\n",
       "      <td>29.000000</td>\n",
       "    </tr>\n",
       "    <tr>\n",
       "      <th>mean</th>\n",
       "      <td>637.500000</td>\n",
       "      <td>1858.804589</td>\n",
       "      <td>4.380992</td>\n",
       "      <td>3.977853</td>\n",
       "      <td>52.119221</td>\n",
       "      <td>1591.093996</td>\n",
       "      <td>4296.883730</td>\n",
       "      <td>1788.550510</td>\n",
       "      <td>4.550314</td>\n",
       "      <td>179.608916</td>\n",
       "      <td>5.270079</td>\n",
       "      <td>2631.494427</td>\n",
       "      <td>3.787029</td>\n",
       "      <td>1.793103</td>\n",
       "    </tr>\n",
       "    <tr>\n",
       "      <th>std</th>\n",
       "      <td>368.493781</td>\n",
       "      <td>1063.152389</td>\n",
       "      <td>1.660957</td>\n",
       "      <td>0.833763</td>\n",
       "      <td>16.458956</td>\n",
       "      <td>157.916262</td>\n",
       "      <td>476.612977</td>\n",
       "      <td>150.932385</td>\n",
       "      <td>0.747816</td>\n",
       "      <td>33.109897</td>\n",
       "      <td>1.145231</td>\n",
       "      <td>209.912640</td>\n",
       "      <td>2.522399</td>\n",
       "      <td>0.773642</td>\n",
       "    </tr>\n",
       "    <tr>\n",
       "      <th>min</th>\n",
       "      <td>0.000000</td>\n",
       "      <td>72.000000</td>\n",
       "      <td>2.000000</td>\n",
       "      <td>1.000000</td>\n",
       "      <td>15.000000</td>\n",
       "      <td>1.845000</td>\n",
       "      <td>4.640000</td>\n",
       "      <td>1.845000</td>\n",
       "      <td>2.000000</td>\n",
       "      <td>100.000000</td>\n",
       "      <td>2.000000</td>\n",
       "      <td>1840.000000</td>\n",
       "      <td>1.000000</td>\n",
       "      <td>1.000000</td>\n",
       "    </tr>\n",
       "    <tr>\n",
       "      <th>25%</th>\n",
       "      <td>318.750000</td>\n",
       "      <td>1198.000000</td>\n",
       "      <td>4.000000</td>\n",
       "      <td>4.000000</td>\n",
       "      <td>40.000000</td>\n",
       "      <td>1495.000000</td>\n",
       "      <td>3991.750000</td>\n",
       "      <td>1695.000000</td>\n",
       "      <td>4.000000</td>\n",
       "      <td>165.000000</td>\n",
       "      <td>5.000000</td>\n",
       "      <td>2470.000000</td>\n",
       "      <td>2.000000</td>\n",
       "      <td>1.000000</td>\n",
       "    </tr>\n",
       "    <tr>\n",
       "      <th>50%</th>\n",
       "      <td>637.500000</td>\n",
       "      <td>1497.000000</td>\n",
       "      <td>4.000000</td>\n",
       "      <td>4.000000</td>\n",
       "      <td>46.000000</td>\n",
       "      <td>1557.000000</td>\n",
       "      <td>4331.000000</td>\n",
       "      <td>1770.000000</td>\n",
       "      <td>5.000000</td>\n",
       "      <td>170.000000</td>\n",
       "      <td>5.000000</td>\n",
       "      <td>2600.000000</td>\n",
       "      <td>2.000000</td>\n",
       "      <td>2.000000</td>\n",
       "    </tr>\n",
       "    <tr>\n",
       "      <th>75%</th>\n",
       "      <td>956.250000</td>\n",
       "      <td>1998.000000</td>\n",
       "      <td>4.000000</td>\n",
       "      <td>4.000000</td>\n",
       "      <td>60.000000</td>\n",
       "      <td>1666.000000</td>\n",
       "      <td>4620.000000</td>\n",
       "      <td>1852.500000</td>\n",
       "      <td>5.000000</td>\n",
       "      <td>192.000000</td>\n",
       "      <td>5.000000</td>\n",
       "      <td>2740.250000</td>\n",
       "      <td>6.000000</td>\n",
       "      <td>2.000000</td>\n",
       "    </tr>\n",
       "    <tr>\n",
       "      <th>max</th>\n",
       "      <td>1275.000000</td>\n",
       "      <td>7993.000000</td>\n",
       "      <td>16.000000</td>\n",
       "      <td>16.000000</td>\n",
       "      <td>105.000000</td>\n",
       "      <td>2670.000000</td>\n",
       "      <td>6092.000000</td>\n",
       "      <td>2226.000000</td>\n",
       "      <td>5.000000</td>\n",
       "      <td>498.000000</td>\n",
       "      <td>16.000000</td>\n",
       "      <td>3820.000000</td>\n",
       "      <td>14.000000</td>\n",
       "      <td>3.000000</td>\n",
       "    </tr>\n",
       "  </tbody>\n",
       "</table>\n",
       "</div>"
      ],
      "text/plain": [
       "        Unnamed: 0  Displacement    Cylinders  Valves_Per_Cylinder  \\\n",
       "count  1276.000000   1264.000000  1210.000000          1174.000000   \n",
       "mean    637.500000   1858.804589     4.380992             3.977853   \n",
       "std     368.493781   1063.152389     1.660957             0.833763   \n",
       "min       0.000000     72.000000     2.000000             1.000000   \n",
       "25%     318.750000   1198.000000     4.000000             4.000000   \n",
       "50%     637.500000   1497.000000     4.000000             4.000000   \n",
       "75%     956.250000   1998.000000     4.000000             4.000000   \n",
       "max    1275.000000   7993.000000    16.000000            16.000000   \n",
       "\n",
       "       Fuel_Tank_Capacity       Height       Length        Width        Doors  \\\n",
       "count         1207.000000  1275.000000  1276.000000  1264.000000  1272.000000   \n",
       "mean            52.119221  1591.093996  4296.883730  1788.550510     4.550314   \n",
       "std             16.458956   157.916262   476.612977   150.932385     0.747816   \n",
       "min             15.000000     1.845000     4.640000     1.845000     2.000000   \n",
       "25%             40.000000  1495.000000  3991.750000  1695.000000     4.000000   \n",
       "50%             46.000000  1557.000000  4331.000000  1770.000000     5.000000   \n",
       "75%             60.000000  1666.000000  4620.000000  1852.500000     5.000000   \n",
       "max            105.000000  2670.000000  6092.000000  2226.000000     5.000000   \n",
       "\n",
       "       Ground_Clearance  Seating_Capacity    Wheelbase  Number_of_Airbags  \\\n",
       "count        987.000000       1270.000000  1256.000000        1141.000000   \n",
       "mean         179.608916          5.270079  2631.494427           3.787029   \n",
       "std           33.109897          1.145231   209.912640           2.522399   \n",
       "min          100.000000          2.000000  1840.000000           1.000000   \n",
       "25%          165.000000          5.000000  2470.000000           2.000000   \n",
       "50%          170.000000          5.000000  2600.000000           2.000000   \n",
       "75%          192.000000          5.000000  2740.250000           6.000000   \n",
       "max          498.000000         16.000000  3820.000000          14.000000   \n",
       "\n",
       "       USB_Ports  \n",
       "count  29.000000  \n",
       "mean    1.793103  \n",
       "std     0.773642  \n",
       "min     1.000000  \n",
       "25%     1.000000  \n",
       "50%     2.000000  \n",
       "75%     2.000000  \n",
       "max     3.000000  "
      ]
     },
     "execution_count": 76,
     "metadata": {},
     "output_type": "execute_result"
    }
   ],
   "source": [
    "car.describe()"
   ]
  },
  {
   "cell_type": "code",
   "execution_count": 77,
   "id": "8c16e236",
   "metadata": {},
   "outputs": [
    {
     "name": "stderr",
     "output_type": "stream",
     "text": [
      "C:\\Users\\SRISUD~1\\AppData\\Local\\Temp/ipykernel_3440/2814173319.py:1: FutureWarning: Dropping of nuisance columns in DataFrame reductions (with 'numeric_only=None') is deprecated; in a future version this will raise TypeError.  Select only valid columns before calling the reduction.\n",
      "  car[['Price']].mean()\n"
     ]
    },
    {
     "data": {
      "text/plain": [
       "Series([], dtype: float64)"
      ]
     },
     "execution_count": 77,
     "metadata": {},
     "output_type": "execute_result"
    }
   ],
   "source": [
    "car[['Price']].mean()"
   ]
  },
  {
   "cell_type": "code",
   "execution_count": 78,
   "id": "d1311f2d",
   "metadata": {},
   "outputs": [
    {
     "name": "stderr",
     "output_type": "stream",
     "text": [
      "C:\\Users\\SRISUD~1\\AppData\\Local\\Temp/ipykernel_3440/1170622532.py:1: FutureWarning: Dropping of nuisance columns in DataFrame reductions (with 'numeric_only=None') is deprecated; in a future version this will raise TypeError.  Select only valid columns before calling the reduction.\n",
      "  car.mean()\n"
     ]
    },
    {
     "data": {
      "text/plain": [
       "Unnamed: 0              637.500000\n",
       "Displacement           1858.804589\n",
       "Cylinders                 4.380992\n",
       "Valves_Per_Cylinder       3.977853\n",
       "Fuel_Tank_Capacity       52.119221\n",
       "Height                 1591.093996\n",
       "Length                 4296.883730\n",
       "Width                  1788.550510\n",
       "Doors                     4.550314\n",
       "Ground_Clearance        179.608916\n",
       "Seating_Capacity          5.270079\n",
       "Wheelbase              2631.494427\n",
       "Number_of_Airbags         3.787029\n",
       "USB_Ports                 1.793103\n",
       "dtype: float64"
      ]
     },
     "execution_count": 78,
     "metadata": {},
     "output_type": "execute_result"
    }
   ],
   "source": [
    "car.mean()"
   ]
  },
  {
   "cell_type": "code",
   "execution_count": 79,
   "id": "7d18713d",
   "metadata": {},
   "outputs": [
    {
     "name": "stderr",
     "output_type": "stream",
     "text": [
      "C:\\Users\\SRISUD~1\\AppData\\Local\\Temp/ipykernel_3440/1554140711.py:1: FutureWarning: Dropping of nuisance columns in DataFrame reductions (with 'numeric_only=None') is deprecated; in a future version this will raise TypeError.  Select only valid columns before calling the reduction.\n",
      "  car.mean(axis=1)\n"
     ]
    },
    {
     "data": {
      "text/plain": [
       "0        803.083333\n",
       "1        803.166667\n",
       "2        802.416667\n",
       "3        803.333333\n",
       "4        803.416667\n",
       "           ...     \n",
       "1271    1017.153846\n",
       "1272    1017.538462\n",
       "1273    1017.538462\n",
       "1274    1017.307692\n",
       "1275    1252.230769\n",
       "Length: 1276, dtype: float64"
      ]
     },
     "execution_count": 79,
     "metadata": {},
     "output_type": "execute_result"
    }
   ],
   "source": [
    "car.mean(axis=1)"
   ]
  },
  {
   "cell_type": "code",
   "execution_count": 80,
   "id": "7a218712",
   "metadata": {},
   "outputs": [
    {
     "name": "stderr",
     "output_type": "stream",
     "text": [
      "C:\\Users\\SRISUD~1\\AppData\\Local\\Temp/ipykernel_3440/961299306.py:1: FutureWarning: Dropping of nuisance columns in DataFrame reductions (with 'numeric_only=None') is deprecated; in a future version this will raise TypeError.  Select only valid columns before calling the reduction.\n",
      "  car.median()\n"
     ]
    },
    {
     "data": {
      "text/plain": [
       "Unnamed: 0              637.5\n",
       "Displacement           1497.0\n",
       "Cylinders                 4.0\n",
       "Valves_Per_Cylinder       4.0\n",
       "Fuel_Tank_Capacity       46.0\n",
       "Height                 1557.0\n",
       "Length                 4331.0\n",
       "Width                  1770.0\n",
       "Doors                     5.0\n",
       "Ground_Clearance        170.0\n",
       "Seating_Capacity          5.0\n",
       "Wheelbase              2600.0\n",
       "Number_of_Airbags         2.0\n",
       "USB_Ports                 2.0\n",
       "dtype: float64"
      ]
     },
     "execution_count": 80,
     "metadata": {},
     "output_type": "execute_result"
    }
   ],
   "source": [
    "car.median()"
   ]
  },
  {
   "cell_type": "code",
   "execution_count": 81,
   "id": "98a04e16",
   "metadata": {},
   "outputs": [
    {
     "data": {
      "image/png": "[encoded data removed]",
      "text/plain": [
       "<Figure size 720x720 with 1 Axes>"
      ]
     },
     "metadata": {
      "needs_background": "light"
     },
     "output_type": "display_data"
    }
   ],
   "source": [
    "norm_data = pd.DataFrame(np.random.normal(size=100000))\n",
    "\n",
    "norm_data.plot(kind=\"density\",\n",
    "              figsize=(10,10));\n",
    "\n",
    "\n",
    "plt.vlines(norm_data.mean(),     # Plot black line at mean\n",
    "           ymin=0, \n",
    "           ymax=0.4,\n",
    "           linewidth=5.0);\n",
    "\n",
    "plt.vlines(norm_data.median(),   # Plot red line at median\n",
    "           ymin=0, \n",
    "           ymax=0.4, \n",
    "           linewidth=2.0,\n",
    "           color=\"red\");\n"
   ]
  },
  {
   "cell_type": "code",
   "execution_count": 82,
   "id": "78200bc3",
   "metadata": {},
   "outputs": [
    {
     "data": {
      "image/png": "[encoded data removed]",
      "text/plain": [
       "<Figure size 720x720 with 1 Axes>"
      ]
     },
     "metadata": {
      "needs_background": "light"
     },
     "output_type": "display_data"
    }
   ],
   "source": [
    "skewed_data = pd.DataFrame(np.random.exponential(size=100000))\n",
    "\n",
    "skewed_data.plot(kind=\"density\",\n",
    "              figsize=(10,10),\n",
    "              xlim=(-1,5));\n",
    "\n",
    "\n",
    "plt.vlines(skewed_data.mean(),     # Plot black line at mean\n",
    "           ymin=0, \n",
    "           ymax=0.8,\n",
    "           linewidth=5.0);\n",
    "\n",
    "plt.vlines(skewed_data.median(),   # Plot red line at median\n",
    "           ymin=0, \n",
    "           ymax=0.8, \n",
    "           linewidth=2.0,\n",
    "           color=\"red\");"
   ]
  },
  {
   "cell_type": "code",
   "execution_count": 83,
   "id": "a40d0b1c",
   "metadata": {},
   "outputs": [
    {
     "data": {
      "image/png": "[encoded data removed]",
      "text/plain": [
       "<Figure size 720x720 with 1 Axes>"
      ]
     },
     "metadata": {
      "needs_background": "light"
     },
     "output_type": "display_data"
    }
   ],
   "source": [
    "norm_data = np.random.normal(size=50)\n",
    "outliers = np.random.normal(15, size=3)\n",
    "combined_data = pd.DataFrame(np.concatenate((norm_data, outliers), axis=0))\n",
    "\n",
    "combined_data.plot(kind=\"density\",\n",
    "              figsize=(10,10),\n",
    "              xlim=(-5,20));\n",
    "\n",
    "\n",
    "plt.vlines(combined_data.mean(),     # Plot black line at mean\n",
    "           ymin=0, \n",
    "           ymax=0.2,\n",
    "           linewidth=5.0);\n",
    "\n",
    "plt.vlines(combined_data.median(),   # Plot red line at median\n",
    "           ymin=0, \n",
    "           ymax=0.2, \n",
    "           linewidth=2.0,\n",
    "           color=\"red\");"
   ]
  },
  {
   "cell_type": "code",
   "execution_count": 85,
   "id": "535c70ef",
   "metadata": {},
   "outputs": [
    {
     "data": {
      "text/plain": [
       "7921.0"
      ]
     },
     "execution_count": 85,
     "metadata": {},
     "output_type": "execute_result"
    }
   ],
   "source": [
    "#measures of spread\n",
    "max(car[\"Displacement\"]) - min(car[\"Displacement\"])"
   ]
  },
  {
   "cell_type": "code",
   "execution_count": 87,
   "id": "50ff9736",
   "metadata": {},
   "outputs": [
    {
     "data": {
      "text/plain": [
       "[72.0, 1198.0, 1497.0, 1998.0, 7993.0]"
      ]
     },
     "execution_count": 87,
     "metadata": {},
     "output_type": "execute_result"
    }
   ],
   "source": [
    "five_num = [car[\"Displacement\"].quantile(0),   \n",
    "            car[\"Displacement\"].quantile(0.25),\n",
    "            car[\"Displacement\"].quantile(0.50),\n",
    "            car[\"Displacement\"].quantile(0.75),\n",
    "            car[\"Displacement\"].quantile(1)]\n",
    "\n",
    "five_num"
   ]
  },
  {
   "cell_type": "code",
   "execution_count": 88,
   "id": "00913b86",
   "metadata": {},
   "outputs": [
    {
     "data": {
      "text/plain": [
       "count    1264.000000\n",
       "mean     1858.804589\n",
       "std      1063.152389\n",
       "min        72.000000\n",
       "25%      1198.000000\n",
       "50%      1497.000000\n",
       "75%      1998.000000\n",
       "max      7993.000000\n",
       "Name: Displacement, dtype: float64"
      ]
     },
     "execution_count": 88,
     "metadata": {},
     "output_type": "execute_result"
    }
   ],
   "source": [
    "car[\"Displacement\"].describe()"
   ]
  },
  {
   "cell_type": "code",
   "execution_count": 89,
   "id": "d2f31b45",
   "metadata": {},
   "outputs": [
    {
     "data": {
      "text/plain": [
       "800.0"
      ]
     },
     "execution_count": 89,
     "metadata": {},
     "output_type": "execute_result"
    }
   ],
   "source": [
    "car[\"Displacement\"].quantile(0.75) - car[\"Displacement\"].quantile(0.25)"
   ]
  },
  {
   "cell_type": "code",
   "execution_count": 116,
   "id": "24c690dc",
   "metadata": {},
   "outputs": [
    {
     "data": {
      "image/png": "[encoded data removed]",
      "text/plain": [
       "<Figure size 720x720 with 1 Axes>"
      ]
     },
     "metadata": {
      "needs_background": "light"
     },
     "output_type": "display_data"
    }
   ],
   "source": [
    "car.boxplot(column=\"Displacement\",\n",
    "               return_type='axes',\n",
    "               figsize=(10,10))\n",
    "\n",
    "plt.text(x=0.74, y=2000,s=\"3Q\")\n",
    "plt.text(x=0.8, y=1500,s=\"Med\")\n",
    "plt.text(x=0.75, y=1100,s=\"1Q\")\n",
    "plt.text(x=0.9, y=10,s=\"Min\")\n",
    "plt.text(x=0.9, y=3100,s=\"Max\")\n",
    "plt.text(x=0.7, y=19.5, s=\"IQRr\",rotation=90, size=25);"
   ]
  },
  {
   "cell_type": "code",
   "execution_count": 105,
   "id": "fe9214da",
   "metadata": {},
   "outputs": [
    {
     "data": {
      "text/plain": [
       "72.0"
      ]
     },
     "execution_count": 105,
     "metadata": {},
     "output_type": "execute_result"
    }
   ],
   "source": [
    "car['Displacement'].min()"
   ]
  },
  {
   "cell_type": "code",
   "execution_count": 107,
   "id": "7b533557",
   "metadata": {},
   "outputs": [
    {
     "data": {
      "text/plain": [
       "7993.0"
      ]
     },
     "execution_count": 107,
     "metadata": {},
     "output_type": "execute_result"
    }
   ],
   "source": [
    "car['Displacement'].max()"
   ]
  },
  {
   "cell_type": "code",
   "execution_count": 117,
   "id": "a204cdef",
   "metadata": {},
   "outputs": [
    {
     "data": {
      "text/plain": [
       "1130293.0029559645"
      ]
     },
     "execution_count": 117,
     "metadata": {},
     "output_type": "execute_result"
    }
   ],
   "source": [
    "car[\"Displacement\"].var()"
   ]
  },
  {
   "cell_type": "code",
   "execution_count": 119,
   "id": "ec936eaa",
   "metadata": {},
   "outputs": [
    {
     "data": {
      "text/plain": [
       "446.26259999999996"
      ]
     },
     "execution_count": 119,
     "metadata": {},
     "output_type": "execute_result"
    }
   ],
   "source": [
    "abs_median_devs = abs(car[\"Displacement\"] - car[\"Displacement\"].median())\n",
    "\n",
    "abs_median_devs.median() * 1.4826"
   ]
  },
  {
   "cell_type": "code",
   "execution_count": 120,
   "id": "92936dc9",
   "metadata": {},
   "outputs": [
    {
     "data": {
      "text/plain": [
       "2.5499194337968807"
      ]
     },
     "execution_count": 120,
     "metadata": {},
     "output_type": "execute_result"
    }
   ],
   "source": [
    "car[\"Displacement\"].skew() "
   ]
  },
  {
   "cell_type": "code",
   "execution_count": 121,
   "id": "ca093653",
   "metadata": {},
   "outputs": [
    {
     "data": {
      "text/plain": [
       "2.5499194337968807"
      ]
     },
     "execution_count": 121,
     "metadata": {},
     "output_type": "execute_result"
    }
   ],
   "source": [
    "car[\"Displacement\"].skew() "
   ]
  },
  {
   "cell_type": "code",
   "execution_count": 125,
   "id": "2bdd4296",
   "metadata": {},
   "outputs": [],
   "source": [
    "norm_data = np.random.normal(size=100000)\n",
    "skewed_data = np.concatenate((np.random.normal(size=35000)+2, \n",
    "                             np.random.exponential(size=65000)), \n",
    "                             axis=0)\n",
    "uniform_data = np.random.uniform(0,2, size=100000)\n",
    "peaked_data = np.concatenate((np.random.exponential(size=50000),\n",
    "                             np.random.exponential(size=50000)*(-1)),\n",
    "                             axis=0)\n",
    "\n",
    "data_df = pd.DataFrame({\"norm\":norm_data,\n",
    "                       \"skewed\":skewed_data,\n",
    "                       \"uniform\":uniform_data,\n",
    "                       \"peaked\":peaked_data})"
   ]
  },
  {
   "cell_type": "code",
   "execution_count": 126,
   "id": "3cba912f",
   "metadata": {},
   "outputs": [
    {
     "data": {
      "image/png": "[encoded data removed]",
      "text/plain": [
       "<Figure size 720x720 with 1 Axes>"
      ]
     },
     "metadata": {
      "needs_background": "light"
     },
     "output_type": "display_data"
    }
   ],
   "source": [
    "data_df.plot(kind=\"density\",\n",
    "            figsize=(10,10),\n",
    "            xlim=(-5,5));"
   ]
  },
  {
   "cell_type": "code",
   "execution_count": null,
   "id": "0e02ec1c",
   "metadata": {},
   "outputs": [],
   "source": []
  }
 ],
 "metadata": {
  "kernelspec": {
   "display_name": "Python 3 (ipykernel)",
   "language": "python",
   "name": "python3"
  },
  "language_info": {
   "codemirror_mode": {
    "name": "ipython",
    "version": 3
   },
   "file_extension": ".py",
   "mimetype": "text/x-python",
   "name": "python",
   "nbconvert_exporter": "python",
   "pygments_lexer": "ipython3",
   "version": "3.9.7"
  }
 },
 "nbformat": 4,
 "nbformat_minor": 5
}
